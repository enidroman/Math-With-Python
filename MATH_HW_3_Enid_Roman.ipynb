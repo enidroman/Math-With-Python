{
  "nbformat": 4,
  "nbformat_minor": 0,
  "metadata": {
    "colab": {
      "name": "MATH HW 3 - Enid Roman",
      "provenance": [],
      "collapsed_sections": [],
      "authorship_tag": "ABX9TyNBtJrdX54SgP9yXCaJZTDT",
      "include_colab_link": true
    },
    "kernelspec": {
      "name": "python3",
      "display_name": "Python 3"
    },
    "language_info": {
      "name": "python"
    }
  },
  "cells": [
    {
      "cell_type": "markdown",
      "metadata": {
        "id": "view-in-github",
        "colab_type": "text"
      },
      "source": [
        "<a href=\"https://colab.research.google.com/github/enidroman/Math-With-Python/blob/main/MATH_HW_3_Enid_Roman.ipynb\" target=\"_parent\"><img src=\"https://colab.research.google.com/assets/colab-badge.svg\" alt=\"Open In Colab\"/></a>"
      ]
    },
    {
      "cell_type": "code",
      "execution_count": 1,
      "metadata": {
        "id": "afnsyo5sfs3g"
      },
      "outputs": [],
      "source": [
        "from scipy.stats import norm\n",
        "from scipy.stats import binom as b\n",
        "from scipy.stats import t\n",
        "import math\n",
        "import matplotlib.pyplot as plt\n",
        "import numpy as np\n",
        "import statistics\n",
        "import pandas as pd\n",
        "from decimal import Decimal\n"
      ]
    },
    {
      "cell_type": "markdown",
      "source": [
        "#### 1. The weights of steers in a herd are distributed normally.  The variance is 40,000 and the mean steer weight is 1300 lbs.  Find the probability that the weight of a randomly selected steer is greater than 979 lbs. (Round your answer to 4 decimal places)"
      ],
      "metadata": {
        "id": "-Y8zv5NiAJPd"
      }
    },
    {
      "cell_type": "code",
      "source": [
        "print(math.sqrt(40000))\n"
      ],
      "metadata": {
        "colab": {
          "base_uri": "https://localhost:8080/"
        },
        "id": "0VjJVCcAzmu2",
        "outputId": "287e1dfc-a9a5-4d91-c17b-deb2b967f383"
      },
      "execution_count": 2,
      "outputs": [
        {
          "output_type": "stream",
          "name": "stdout",
          "text": [
            "200.0\n"
          ]
        }
      ]
    },
    {
      "cell_type": "code",
      "source": [
        "# Mean: 1300\n",
        "# Variance: 40000\n",
        "# x: 979\n",
        "# SD: 200\n",
        "# cdf(x, loc=0, scale=1)\n",
        "\n",
        "1- round(norm.cdf(979, loc=1300, scale=200),4)\n"
      ],
      "metadata": {
        "colab": {
          "base_uri": "https://localhost:8080/"
        },
        "id": "FSJ99ObDMo2C",
        "outputId": "c2e6e214-1741-4b61-95eb-645ee55e9e6b"
      },
      "execution_count": 3,
      "outputs": [
        {
          "output_type": "execute_result",
          "data": {
            "text/plain": [
              "0.9458"
            ]
          },
          "metadata": {},
          "execution_count": 3
        }
      ]
    },
    {
      "cell_type": "markdown",
      "source": [
        "#### 2. SVGA monitors manufactured by TSI Electronics have life spans that have a normal distribution with a variance of 1,960,000 and a mean life span of 11,000 hours.  If a SVGA monitor is selected at random, find the probability that the life span of the monitor will be more than 8340 hours. (Round your answer to 4 decimal places)"
      ],
      "metadata": {
        "id": "1OL7GoixbTcy"
      }
    },
    {
      "cell_type": "code",
      "source": [
        "print(math.sqrt(1960000))"
      ],
      "metadata": {
        "colab": {
          "base_uri": "https://localhost:8080/"
        },
        "id": "ciRcEZ5R0dN-",
        "outputId": "03ef58da-2ce8-498d-b5bd-b7d98fbfb664"
      },
      "execution_count": 4,
      "outputs": [
        {
          "output_type": "stream",
          "name": "stdout",
          "text": [
            "1400.0\n"
          ]
        }
      ]
    },
    {
      "cell_type": "code",
      "source": [
        "# Mean: 11000\n",
        "# Variance: 1960000\n",
        "# x: 8340\n",
        "# SD: 1400\n",
        "# cdf(x, loc=0, scale=1)\n",
        "\n",
        "1- round(norm.cdf(8340, loc=11000, scale=1400),4)"
      ],
      "metadata": {
        "colab": {
          "base_uri": "https://localhost:8080/"
        },
        "id": "9D9BQqkQbgW8",
        "outputId": "514c57ac-136d-4970-96b6-d8d0668e6ec9"
      },
      "execution_count": 5,
      "outputs": [
        {
          "output_type": "execute_result",
          "data": {
            "text/plain": [
              "0.9713"
            ]
          },
          "metadata": {},
          "execution_count": 5
        }
      ]
    },
    {
      "cell_type": "markdown",
      "source": [
        "#### 3. Suppose the mean income of firms in the industry for a year is 80 million dollars with a standard deviation of 3 million dollars.  If incomes for the industry are distributed normally, what is the probability that a randomly selected firm will earn between 83 and 85 million dollars? (Round your answer to 4 decimal places)"
      ],
      "metadata": {
        "id": "m90Yz3e32OWU"
      }
    },
    {
      "cell_type": "code",
      "source": [
        "# Mean: 80000000\n",
        "# Variance: ?\n",
        "# x: 85 and 83\n",
        "# SD: 3000000\n",
        "# cdf(x, loc=0, scale=1)-cdf(x,loc=0, scale=1)\n",
        "\n",
        "round(norm.cdf(85, loc=80, scale=3)-norm.cdf(83, loc=80, scale=3),4)"
      ],
      "metadata": {
        "colab": {
          "base_uri": "https://localhost:8080/"
        },
        "id": "ADjWu5-C2tNM",
        "outputId": "4a68ea54-4c0a-4045-b186-323eb8ec0cd8"
      },
      "execution_count": 6,
      "outputs": [
        {
          "output_type": "execute_result",
          "data": {
            "text/plain": [
              "0.1109"
            ]
          },
          "metadata": {},
          "execution_count": 6
        }
      ]
    },
    {
      "cell_type": "markdown",
      "source": [
        "#### 4. Suppose GRE Verbal scores are normally distributed with a mean of 456 and a standard deviation of 123.  A university plans to offer tutoring jobs to students whose scores are in the top 14%.  What is the minimum score required for the job offer?  Round your answer to the nearest whole number, if necessary.\n",
        "\n"
      ],
      "metadata": {
        "id": "H0JTiL4FBdRY"
      }
    },
    {
      "cell_type": "code",
      "source": [
        "# Mean: 456\n",
        "# Variance: \n",
        "# x: .14  100-14=86\n",
        "# SD: 123\n",
        "# ppf(q, loc=0, scale=1)\n",
        "\n",
        "round(norm.ppf(.86, loc=456, scale=123),)"
      ],
      "metadata": {
        "colab": {
          "base_uri": "https://localhost:8080/"
        },
        "id": "d6BAzxrlBoSg",
        "outputId": "a195420d-48f3-4cdd-d1d3-62b8fe7bd339"
      },
      "execution_count": 7,
      "outputs": [
        {
          "output_type": "execute_result",
          "data": {
            "text/plain": [
              "589"
            ]
          },
          "metadata": {},
          "execution_count": 7
        }
      ]
    },
    {
      "cell_type": "markdown",
      "source": [
        "#### 5. The lengths of nails produced in a factory are normally distributed with a mean of 6.13 centimeters and a standard deviation of 0.06 centimeters.  Find the two lengths that separate the top 7% and the bottom 7%.  These lengths could serve as limits used to identify which nails should be rejected.  Round your answer to the nearest hundredth, if necessary.\n",
        "\n"
      ],
      "metadata": {
        "id": "9QgoHwIoOFO5"
      }
    },
    {
      "cell_type": "code",
      "source": [
        "\n",
        "# Mean: 6.13 cm\n",
        "# Variance:\n",
        "# x: top 7% bottom 7%\n",
        "# SD: 0.06 cm\n",
        "# ppf(q, loc=0, scale=1)\n",
        "\n",
        "\n",
        "print(round(norm.ppf(.07,loc=6.13, scale=0.06),2), \"\\n\", (round(norm.ppf(.93,loc=6.13, scale=.06))),2)\n",
        "\n",
        "#having problem with my decimal showing"
      ],
      "metadata": {
        "colab": {
          "base_uri": "https://localhost:8080/"
        },
        "id": "4uiCfTMSOnJN",
        "outputId": "37afb990-988e-4b12-b2f2-0d344eee7f30"
      },
      "execution_count": 8,
      "outputs": [
        {
          "output_type": "stream",
          "name": "stdout",
          "text": [
            "6.04 \n",
            " 6 2\n"
          ]
        }
      ]
    },
    {
      "cell_type": "markdown",
      "source": [
        "#### 6. An English professor assigns letter grades on a test according to the following scheme.\n",
        "####\tA:  Top 13% of scores\n",
        "####\tB:  Scores below the top 13% and above the bottom 55%\n",
        "####\tC:  Scores below the top 45% and above the bottom 20%\n",
        "####\tD:  Scores below the top 80% and above the bottom 9%\n",
        "####\tF:  Bottom 9% of scores\n",
        "####\tScores on the test are normally distributed with a mean of 78.8 and a standard deviation of 9.8.  Find the numerical limits for a C grade.  Round your answers to the nearest whole number, if necessary.\n",
        "\n"
      ],
      "metadata": {
        "id": "H5mGG_nrV2Ma"
      }
    },
    {
      "cell_type": "code",
      "source": [
        "# Mean:78.8\n",
        "# Variance: \n",
        "# x: 20% and 55%\n",
        "# SD: 9.8\n",
        "# ppf(q, loc=0, scale=1)\n",
        "\n",
        "print(round(norm.ppf(.20, loc=78.8, scale=9.8),), \"\\n\",(round(norm.ppf(.55,loc=78.8, scale=9.8),)))"
      ],
      "metadata": {
        "colab": {
          "base_uri": "https://localhost:8080/"
        },
        "id": "MAG0xAFLW6c6",
        "outputId": "3fedc9c2-d8c9-44b2-ffc9-398c8fb00282"
      },
      "execution_count": 9,
      "outputs": [
        {
          "output_type": "stream",
          "name": "stdout",
          "text": [
            "71 \n",
            " 80\n"
          ]
        }
      ]
    },
    {
      "cell_type": "markdown",
      "source": [
        "#### 7. Suppose ACT Composite scores are normally distributed with a mean of 21.2 and a standard deviation of 5.4.  A university plans to admit students whose scores are in the top 45%.  What is the minimum score required for admission?  Round your answer to the nearest tenth, if necessary.\n",
        "\n"
      ],
      "metadata": {
        "id": "qn3T1kAgbqkD"
      }
    },
    {
      "cell_type": "code",
      "source": [
        "# Mean: 21.2\n",
        "# Variance: \n",
        "# x: 45%\n",
        "# SD: 5.4\n",
        "# ppf(q, loc=0, scale=1)\n",
        "\n",
        "round(norm.ppf(.45, loc=21.2, scale=5.4),2)"
      ],
      "metadata": {
        "colab": {
          "base_uri": "https://localhost:8080/"
        },
        "id": "ledEmOFxb52o",
        "outputId": "36dcea95-f2c1-4d4c-cc3e-730c43bcf279"
      },
      "execution_count": 10,
      "outputs": [
        {
          "output_type": "execute_result",
          "data": {
            "text/plain": [
              "20.52"
            ]
          },
          "metadata": {},
          "execution_count": 10
        }
      ]
    },
    {
      "cell_type": "markdown",
      "source": [
        "#### 8. Consider the probability that less than 11 out of 151 students will not graduate on time.  Assume the probability that a given student will not graduate on time is 9%.  Approximate the probability using the normal distribution. (Round your answer to 4 decimal places.)"
      ],
      "metadata": {
        "id": "bATQqR1gdRAH"
      }
    },
    {
      "cell_type": "code",
      "source": [
        "# result = b.pmf(k= , n= , p= )\n",
        "\n",
        "result = b.pmf(11, 151, 0.09)\n",
        "print(format(result,\".4f\"))"
      ],
      "metadata": {
        "colab": {
          "base_uri": "https://localhost:8080/"
        },
        "id": "p9olL2kpdmcD",
        "outputId": "8a2404f7-9110-4b21-d79a-d49ceb65feb1"
      },
      "execution_count": 11,
      "outputs": [
        {
          "output_type": "stream",
          "name": "stdout",
          "text": [
            "0.0929\n"
          ]
        }
      ]
    },
    {
      "cell_type": "markdown",
      "source": [
        "#### 9. The mean lifetime of a tire is 48 months with a standard deviation of 7.  If 147 tires are sampled, what is the probability that the mean of the sample would be greater than 48.83 months? (Round your answer to 4 decimal places)"
      ],
      "metadata": {
        "id": "FXOZDsudkvQz"
      }
    },
    {
      "cell_type": "code",
      "source": [
        "print(round(7/math.sqrt(147)),4)\n",
        "# again having problem with decimal"
      ],
      "metadata": {
        "colab": {
          "base_uri": "https://localhost:8080/"
        },
        "id": "5rznaP_ys2g-",
        "outputId": "52e163e5-6718-4c6a-dd84-a6a92b357e77"
      },
      "execution_count": 12,
      "outputs": [
        {
          "output_type": "stream",
          "name": "stdout",
          "text": [
            "1 4\n"
          ]
        }
      ]
    },
    {
      "cell_type": "code",
      "source": [
        "import decimal\n",
        "# Mean: 48 months\n",
        "# Variance: ?\n",
        "# x: 48.83\n",
        "# SD: 7/^147\n",
        "# cdf(x, loc=0, scale= 0.7773\n",
        "\n",
        "round(norm.cdf(48.83, loc=48, scale=0.5773),4)\n"
      ],
      "metadata": {
        "colab": {
          "base_uri": "https://localhost:8080/"
        },
        "id": "ujWGuV2Ll1k6",
        "outputId": "17e722f4-376f-4def-fbde-c1572344054b"
      },
      "execution_count": 13,
      "outputs": [
        {
          "output_type": "execute_result",
          "data": {
            "text/plain": [
              "0.9247"
            ]
          },
          "metadata": {},
          "execution_count": 13
        }
      ]
    },
    {
      "cell_type": "markdown",
      "source": [
        "#### 10. The quality control manager at a computer manufacturing company believes that the mean life of a computer is 91 months, with a standard deviation of 10.  If he is correct, what is the probability that the mean of a sample of 68 computers would be greater than 93.54 months? (Round your answer to 4 decimal places)\n",
        "\n"
      ],
      "metadata": {
        "id": "laiN61fGzrIq"
      }
    },
    {
      "cell_type": "code",
      "source": [
        "print(10/math.sqrt(68))"
      ],
      "metadata": {
        "colab": {
          "base_uri": "https://localhost:8080/"
        },
        "id": "oX0qa2gnBQyq",
        "outputId": "5534c253-5e30-421a-a485-bc78e6cb1beb"
      },
      "execution_count": 14,
      "outputs": [
        {
          "output_type": "stream",
          "name": "stdout",
          "text": [
            "1.212678125181665\n"
          ]
        }
      ]
    },
    {
      "cell_type": "code",
      "source": [
        "# Mean: 91 months\n",
        "# Variance: ?\n",
        "# x: 48.83\n",
        "# SD: 7/^147\n",
        "# cdf(x, loc=0, scale=1)\n",
        "\n",
        "round(norm.cdf(93.54, loc=91, scale=1.212678125181665),4)"
      ],
      "metadata": {
        "colab": {
          "base_uri": "https://localhost:8080/"
        },
        "id": "2RmoK7q350JS",
        "outputId": "8f35bd99-7687-4bb6-d92f-390a42400966"
      },
      "execution_count": 15,
      "outputs": [
        {
          "output_type": "execute_result",
          "data": {
            "text/plain": [
              "0.9819"
            ]
          },
          "metadata": {},
          "execution_count": 15
        }
      ]
    },
    {
      "cell_type": "markdown",
      "source": [
        "#### 11. A director of reservations believes that 7% of the ticketed passengers are no-shows.  If the director is right, what is the probability that the proportion of no-shows in a sample of 540 ticketed passengers would differ from the population proportion by less than 3%? (Round your answer to 4 decimal places)"
      ],
      "metadata": {
        "id": "2f3fOm1nCwop"
      }
    },
    {
      "cell_type": "code",
      "source": [
        "\n",
        "print(round(b.cdf(10*540, 540, .07)-b.cdf(.04*540, 540, .07),4))"
      ],
      "metadata": {
        "colab": {
          "base_uri": "https://localhost:8080/"
        },
        "id": "bEyndqL3DCwI",
        "outputId": "7e9bdbbf-4d59-437e-e0ff-88cec9b729ec"
      },
      "execution_count": 16,
      "outputs": [
        {
          "output_type": "stream",
          "name": "stdout",
          "text": [
            "0.9984\n"
          ]
        }
      ]
    },
    {
      "cell_type": "markdown",
      "source": [
        "#### 12. A bottle maker believes that 23% of his bottles are defective.  If the bottle maker is accurate, what is the probability that the proportion of defective bottles in a sample of 602 bottles would differ from the population proportion by greater than 4%? (Round your answer to 4 decimal places)\n",
        "\n"
      ],
      "metadata": {
        "id": "FBBwyLh0HAxb"
      }
    },
    {
      "cell_type": "code",
      "source": [
        "print(.23 * (1-0.23)/math.sqrt(602))\n"
      ],
      "metadata": {
        "colab": {
          "base_uri": "https://localhost:8080/"
        },
        "id": "zafKxX9oIgFl",
        "outputId": "87d95347-e8db-4670-a4ab-b97141e38e77"
      },
      "execution_count": 17,
      "outputs": [
        {
          "output_type": "stream",
          "name": "stdout",
          "text": [
            "0.007218057137291815\n"
          ]
        }
      ]
    },
    {
      "cell_type": "code",
      "source": [
        "print (1 -(b.cdf(.19*540, .23, .00721)-b.cdf(.23*540, .23, .00721)))\n"
      ],
      "metadata": {
        "colab": {
          "base_uri": "https://localhost:8080/"
        },
        "id": "1A-wp6CMJ_6D",
        "outputId": "bd320761-f9fe-4ac0-9173-c4882c364f4e"
      },
      "execution_count": 18,
      "outputs": [
        {
          "output_type": "stream",
          "name": "stdout",
          "text": [
            "1.0\n"
          ]
        }
      ]
    },
    {
      "cell_type": "markdown",
      "source": [
        "#### 13. A research company desires to know the mean consumption of beef per week among males over age 48.  Suppose a sample of size 208 is drawn with x ̅  = 3.9.  Assume ® = 0.8 .  Construct the 80% confidence interval for the mean number of lb. of beef per week among males over 48. (Round your answers to 1 decimal place) \n",
        "\n",
        "#### Lower Bound:\n",
        "#### Higher Bound:\n",
        "\n",
        "\n",
        "\n",
        "\n",
        "\n",
        "\n"
      ],
      "metadata": {
        "id": "bfAB1oCEjviX"
      }
    },
    {
      "cell_type": "code",
      "source": [
        "print (round(norm.ppf(.2, 3.9, .8/np.sqrt(208)),1), (round(norm.ppf(.8, 3.9, .8/np.sqrt(208)))),1)\n",
        "# having problem with the decimal"
      ],
      "metadata": {
        "colab": {
          "base_uri": "https://localhost:8080/"
        },
        "id": "0wXdeCewkyB0",
        "outputId": "a29120d0-294e-46c9-c341-4e5dfed9f853"
      },
      "execution_count": 19,
      "outputs": [
        {
          "output_type": "stream",
          "name": "stdout",
          "text": [
            "3.9 4 1\n"
          ]
        }
      ]
    },
    {
      "cell_type": "markdown",
      "source": [
        "#### 14. An economist wants to estimate the mean per capita income (in thousands of dollars) in a major city in California.  Suppose a sample of size 7472 is drawn with x ̅  = 16.6.  Assume ® = 11 .  Construct the 98% confidence interval for the mean per capita income. (Round your answers to 1 decimal place) \n",
        "\n",
        "#### Lower Bound:\n",
        "#### Upper Bound:\n",
        "\n",
        "\n"
      ],
      "metadata": {
        "id": "66rtUvqCmA34"
      }
    },
    {
      "cell_type": "code",
      "source": [
        "print (round(norm.ppf(.2, 16.6, .11/np.sqrt(7472)),1), (round(norm.ppf(.98, 16.6, .11/np.sqrt(7472)))),1)\n",
        "# having problem with the decimal"
      ],
      "metadata": {
        "id": "qZKZ-BG7mcbd",
        "colab": {
          "base_uri": "https://localhost:8080/"
        },
        "outputId": "d8f93179-e35d-46e1-e201-20fa0e64e1b5"
      },
      "execution_count": 20,
      "outputs": [
        {
          "output_type": "stream",
          "name": "stdout",
          "text": [
            "16.6 17 1\n"
          ]
        }
      ]
    },
    {
      "cell_type": "markdown",
      "source": [
        "#### 15. Find the value of t such that 0.05 of the area under the curve is to the left of t.  Assume the degrees of freedom equals 26.\n",
        "\n",
        "#### Step 1. Choose the picture which best describes the problem.\n",
        "\n",
        "#### Step 2. Write your answer below. \n",
        "\n",
        "#### Picture 1\n",
        "\n",
        "\n",
        "\n"
      ],
      "metadata": {
        "id": "9yQT9Yfvx3OU"
      }
    },
    {
      "cell_type": "code",
      "source": [
        "t.ppf(q=1-.05,df= 26)"
      ],
      "metadata": {
        "colab": {
          "base_uri": "https://localhost:8080/"
        },
        "id": "_JtsZ6Ys9AJI",
        "outputId": "486235ed-3448-42a9-e665-aa2baa1a9856"
      },
      "execution_count": 21,
      "outputs": [
        {
          "output_type": "execute_result",
          "data": {
            "text/plain": [
              "1.7056179197592727"
            ]
          },
          "metadata": {},
          "execution_count": 21
        }
      ]
    },
    {
      "cell_type": "markdown",
      "source": [
        "#### 16. The following measurements ( in picocuries per liter ) were recorded by a set of helium gas detectors installed in a laboratory facility: 383.6, 347.1, 371.9, 347.6, 325.8, 337. Using these measurements, construct a 90% confidence interval for the mean level of helium gas present in the facility.  Assume the population is normally distributed.  \n",
        "\n",
        "#### Step 1. Calculate the sample mean for the given sample data. (Round answer to 2 decimal places) \n",
        "\n",
        "#### Step 2. Calculate the sample standard deviation for the given sample data. (Round answer to 2 decimal places) \n",
        "\n",
        "#### Step 3. Find the critical value that should be used in constructing the confidence interval. (Round answer to 3 decimal places) \n",
        "\n",
        "#### Step 4. Construct the 90% confidence interval. (Round answer to 2 decimal places)\n",
        "\n",
        "#### Lower Bound:\n",
        "#### Lower Bound:\n"
      ],
      "metadata": {
        "id": "2_WRsHIVAIxd"
      }
    },
    {
      "cell_type": "code",
      "source": [
        "# Step 1:\n",
        "\n",
        "data=[383.6, 347.1, 371.9, 347.6, 325.8, 337]\n",
        "x = statistics.mean(data)\n",
        "print(round(x),2)\n"
      ],
      "metadata": {
        "colab": {
          "base_uri": "https://localhost:8080/"
        },
        "id": "tl3slSu7A5vz",
        "outputId": "f42def26-49ae-44fd-85d7-9f87aa0ed7d0"
      },
      "execution_count": 22,
      "outputs": [
        {
          "output_type": "stream",
          "name": "stdout",
          "text": [
            "352 2\n"
          ]
        }
      ]
    },
    {
      "cell_type": "code",
      "source": [
        "# Step 2:\n",
        "\n",
        "x1 = statistics.stdev(data)\n",
        "print(round(x1),2)\n",
        "\n"
      ],
      "metadata": {
        "colab": {
          "base_uri": "https://localhost:8080/"
        },
        "id": "VCnVCTJMPuwJ",
        "outputId": "24e2a051-62ac-4ce2-84b4-690129b4373c"
      },
      "execution_count": 23,
      "outputs": [
        {
          "output_type": "stream",
          "name": "stdout",
          "text": [
            "22 2\n"
          ]
        }
      ]
    },
    {
      "cell_type": "code",
      "source": [
        "# Step 3:\n",
        "\n",
        "round(t.ppf(q=.90,df=6), 3)\n"
      ],
      "metadata": {
        "colab": {
          "base_uri": "https://localhost:8080/"
        },
        "id": "uRIyQHazRdMb",
        "outputId": "30db8243-1a2d-406d-dc3e-249946fb74ca"
      },
      "execution_count": 24,
      "outputs": [
        {
          "output_type": "execute_result",
          "data": {
            "text/plain": [
              "1.44"
            ]
          },
          "metadata": {},
          "execution_count": 24
        }
      ]
    },
    {
      "cell_type": "code",
      "source": [
        "# Step 4:\n",
        "\n",
        "\n",
        "t.interval(alpha = .90, df=6, loc = 352.2, scale = 22.2)\n",
        "# couldn't round my decimal more then 2 arguments"
      ],
      "metadata": {
        "id": "vQ1eTvolWtAn",
        "colab": {
          "base_uri": "https://localhost:8080/"
        },
        "outputId": "c116de61-8953-429f-cec0-884cbe62ed2a"
      },
      "execution_count": 25,
      "outputs": [
        {
          "output_type": "execute_result",
          "data": {
            "text/plain": [
              "(309.0613977752802, 395.33860222471975)"
            ]
          },
          "metadata": {},
          "execution_count": 25
        }
      ]
    },
    {
      "cell_type": "markdown",
      "source": [
        "#### 17. A random sample of 16 fields of spring wheat has a mean yield of 46.4 bushels per acre and standard deviation of 2.45 bushels per acre.  Determine the 80% confidence interval for the true mean yield.  Assume the population is normally distributed.  \n",
        "\n",
        "#### Step 1. Find the critical value that should be used in constructing the confidence interval. (Round answer to 3 decimal places) \n",
        "\n",
        "#### Step 2. Construct the 80% confidence interval. (Round answer to 1 decimal place)\n",
        "\n",
        "#### Lower Bound:\n",
        "#### Upper Bound:\n"
      ],
      "metadata": {
        "id": "8v3wSlUbW1XM"
      }
    },
    {
      "cell_type": "code",
      "source": [
        "# Step 1:\n",
        "round(t.ppf(q=.80,df=16),3)"
      ],
      "metadata": {
        "id": "3VZuwtAlXRy-",
        "colab": {
          "base_uri": "https://localhost:8080/"
        },
        "outputId": "b3dd702e-a2ef-45d3-ebdf-378eae5e22e9"
      },
      "execution_count": 26,
      "outputs": [
        {
          "output_type": "execute_result",
          "data": {
            "text/plain": [
              "0.865"
            ]
          },
          "metadata": {},
          "execution_count": 26
        }
      ]
    },
    {
      "cell_type": "code",
      "source": [
        "# Step 2:\n",
        "t.interval(alpha = .80, df=16, loc = 46.4, scale = 2.45)\n",
        "# couldn't round my decimal more then 2 arguments"
      ],
      "metadata": {
        "colab": {
          "base_uri": "https://localhost:8080/"
        },
        "id": "ZSg_AUyNmhCq",
        "outputId": "8149905e-448d-4538-8d58-9b51abddbf07"
      },
      "execution_count": 27,
      "outputs": [
        {
          "output_type": "execute_result",
          "data": {
            "text/plain": [
              "(43.12494494004808, 49.675055059951916)"
            ]
          },
          "metadata": {},
          "execution_count": 27
        }
      ]
    },
    {
      "cell_type": "markdown",
      "source": [
        "#### 18. A toy manufacturer wants to know how many new toys children buy each year.  She thinks the mean is 8 toys per year.  Assume a previous study found the standard deviation to be 1.9.  How large of a sample would be required in order to estimate the mean number of toys bought per child at the 99% confidence level with an error of at most 0.13 toys? (Round your answer up to the next integer)"
      ],
      "metadata": {
        "id": "EB3QeDcmXK_j"
      }
    },
    {
      "cell_type": "code",
      "source": [
        "t.ppf(q=.99,df=8)"
      ],
      "metadata": {
        "colab": {
          "base_uri": "https://localhost:8080/"
        },
        "id": "af2ckMD3jgzY",
        "outputId": "9e696509-98f4-41b0-9f3f-3aa750baad9a"
      },
      "execution_count": 28,
      "outputs": [
        {
          "output_type": "execute_result",
          "data": {
            "text/plain": [
              "2.896459442760522"
            ]
          },
          "metadata": {},
          "execution_count": 28
        }
      ]
    },
    {
      "cell_type": "code",
      "source": [
        "\n",
        "print(round((2.896459442760522 * 1.9)/.13),)"
      ],
      "metadata": {
        "id": "pFaun6HBXpFs",
        "colab": {
          "base_uri": "https://localhost:8080/"
        },
        "outputId": "5be96082-b982-4e12-a234-eaa870bb7f98"
      },
      "execution_count": 29,
      "outputs": [
        {
          "output_type": "stream",
          "name": "stdout",
          "text": [
            "42\n"
          ]
        }
      ]
    },
    {
      "cell_type": "markdown",
      "source": [
        "#### 19. A research scientist wants to know how many times per hour a certain strand of bacteria reproduces.  He believes that the mean is 12.6.  Assume the variance is known to be 3.61.  How large of a sample would be required in order to estimate the mean number of reproductions per hour at the 95% confidence level with an error of at most 0.19 reproductions? (Round your answer up to the next integer)"
      ],
      "metadata": {
        "id": "Dpz5S8RTXqf_"
      }
    },
    {
      "cell_type": "code",
      "source": [
        "t.ppf(q=.95,df=99.81)"
      ],
      "metadata": {
        "id": "Eni11j5GX0Cs",
        "colab": {
          "base_uri": "https://localhost:8080/"
        },
        "outputId": "28ad8123-3d19-4a7c-d510-6aa01e120dce"
      },
      "execution_count": 30,
      "outputs": [
        {
          "output_type": "execute_result",
          "data": {
            "text/plain": [
              "1.6602638796690536"
            ]
          },
          "metadata": {},
          "execution_count": 30
        }
      ]
    },
    {
      "cell_type": "code",
      "source": [
        "print(round((1.6602638796690536 * (math.sqrt(3.61)))/.19),)"
      ],
      "metadata": {
        "colab": {
          "base_uri": "https://localhost:8080/"
        },
        "id": "yQTdm5hnkgpE",
        "outputId": "3b54457a-753a-4ed3-96f8-1b23161a3a46"
      },
      "execution_count": 31,
      "outputs": [
        {
          "output_type": "stream",
          "name": "stdout",
          "text": [
            "17\n"
          ]
        }
      ]
    },
    {
      "cell_type": "markdown",
      "source": [
        "#### 20. The state education commission wants to estimate the fraction of tenth grade students that have reading skills at or below the eighth grade level.\n",
        "\n",
        "#### Step 1. Suppose a sample of 2089 tenth graders is drawn. Of the students sampled, 1734 read above the eighth grade level.  Using the data, estimate the proportion of tenth graders reading at or below the eighth grade level. (Write your answer as a fraction or a decimal number rounded to 3 decimal places) \n",
        "\n",
        "\n",
        "#### Step 2. Suppose a sample of 2089 tenth graders is drawn.  Of the students sampled, 1734 read above the eighth grade level.  Using the data, construct the 98% confidence interval for the population proportion of tenth graders reading at or below the eighth grade level. (Round your answers to 3 decimal places)\n",
        "\n",
        "#### Lower Bound:\n",
        "#### Upper Bound:\n",
        "\n"
      ],
      "metadata": {
        "id": "AlRphvWQX03k"
      }
    },
    {
      "cell_type": "code",
      "source": [
        "# Step 1: \n",
        "S1 = 2089\n",
        "S2 = 1734\n",
        "P = (1-(1734/2089))\n",
        "P\n",
        "# Couldn't round to 3 decimal places"
      ],
      "metadata": {
        "id": "-Q34UPbrYJ6g",
        "colab": {
          "base_uri": "https://localhost:8080/"
        },
        "outputId": "560671f2-288c-4668-c08c-de9a45da53ec"
      },
      "execution_count": 32,
      "outputs": [
        {
          "output_type": "execute_result",
          "data": {
            "text/plain": [
              "0.1699377692675922"
            ]
          },
          "metadata": {},
          "execution_count": 32
        }
      ]
    },
    {
      "cell_type": "code",
      "source": [
        "#Step 2:\n",
        "#N = 2089\n",
        "#Xabove = 1734\n",
        "#Xbelow = 2089 - 1734\n",
        "#      = 355\n",
        "#CI = 98% reading below \n",
        "t.interval(alpha = .98, df=355, loc = .16 , scale = 2.36)"
      ],
      "metadata": {
        "id": "GZCwVb8y7WCY",
        "colab": {
          "base_uri": "https://localhost:8080/"
        },
        "outputId": "3206984e-98ab-45dc-b30f-7cf7d8f0f3ae"
      },
      "execution_count": 33,
      "outputs": [
        {
          "output_type": "execute_result",
          "data": {
            "text/plain": [
              "(-5.355078913877894, 5.675078913877894)"
            ]
          },
          "metadata": {},
          "execution_count": 33
        }
      ]
    },
    {
      "cell_type": "markdown",
      "source": [
        "#### 21. An environmentalist wants to find out the fraction of oil tankers that have spills each month.\n",
        "\n",
        "#### Step 1. Suppose a sample of 474 tankers is drawn.  Of these ships, 156 had spills.  Using the data, estimate the proportion of oil tankers that had spills. (Write your answer as a fraction or a decimal number rounded to 3 decimal places) \n",
        "\n",
        "#### Step 2. Suppose a sample of 474 tankers is drawn.  Of these ships, 156 had spills.  Using the data, construct the 95% confidence interval for the population proportion of oil tankers that have spills each month. (Round your answers to 3 decimal places)\n",
        "\n"
      ],
      "metadata": {
        "id": "lhqOJHBYYQ-D"
      }
    },
    {
      "cell_type": "code",
      "source": [
        "#Step 1: \n",
        "S1 = 474\n",
        "S2 = 156\n",
        "P = (1-round(156/474,3))\n",
        "P"
      ],
      "metadata": {
        "id": "iFkrgHKJYlsT",
        "colab": {
          "base_uri": "https://localhost:8080/"
        },
        "outputId": "3c5057fb-0772-472f-ece6-f3a1801ed263"
      },
      "execution_count": 34,
      "outputs": [
        {
          "output_type": "execute_result",
          "data": {
            "text/plain": [
              "0.671"
            ]
          },
          "metadata": {},
          "execution_count": 34
        }
      ]
    },
    {
      "cell_type": "code",
      "source": [
        "#Step 2:\n",
        "t.ppf(q=.95,df=156)"
      ],
      "metadata": {
        "colab": {
          "base_uri": "https://localhost:8080/"
        },
        "id": "7LSVVcoQCUD4",
        "outputId": "b1bb9784-6ec2-40b0-9904-9ceb75ba5e2d"
      },
      "execution_count": 35,
      "outputs": [
        {
          "output_type": "execute_result",
          "data": {
            "text/plain": [
              "1.6546799956696048"
            ]
          },
          "metadata": {},
          "execution_count": 35
        }
      ]
    }
  ]
}