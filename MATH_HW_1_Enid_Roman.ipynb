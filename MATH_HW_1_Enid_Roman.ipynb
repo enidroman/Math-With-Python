{
  "nbformat": 4,
  "nbformat_minor": 0,
  "metadata": {
    "colab": {
      "name": "MATH HW 1 - Enid Roman",
      "provenance": [],
      "collapsed_sections": [],
      "authorship_tag": "ABX9TyP5vXgFV7pb2+m6OFTRh0/Q",
      "include_colab_link": true
    },
    "kernelspec": {
      "name": "python3",
      "display_name": "Python 3"
    },
    "language_info": {
      "name": "python"
    }
  },
  "cells": [
    {
      "cell_type": "markdown",
      "metadata": {
        "id": "view-in-github",
        "colab_type": "text"
      },
      "source": [
        "<a href=\"https://colab.research.google.com/github/enidroman/Math-With-Python/blob/main/MATH_HW_1_Enid_Roman.ipynb\" target=\"_parent\"><img src=\"https://colab.research.google.com/assets/colab-badge.svg\" alt=\"Open In Colab\"/></a>"
      ]
    },
    {
      "cell_type": "markdown",
      "source": [
        "#CHAPTER 1: Even Odd Vending Machine"
      ],
      "metadata": {
        "id": "dj2h9FZvj0NH"
      }
    },
    {
      "cell_type": "code",
      "source": [
        "# even_odd_vending.py\n",
        "# Print whether the input is even or odd. \n",
        "# If even, print the next 9 even numbers\n",
        "# If odd, print the next 9 odd numbers.\n",
        "\n",
        "def even_odd_vending(num):\n",
        "    \n",
        "    if num % 2 == 0:\n",
        "        print(\"even\")\n",
        "    else:\n",
        "        print(\"odd\")\n",
        "    count = 1\n",
        "\n",
        "    while count <= 9:\n",
        "      num += 2\n",
        "      print(num)\n",
        "      # increment the count of numbers printed\n",
        "      count += 1\n",
        "\n",
        "if __name__ == '__main__': \n",
        "  try:\n",
        "    num = float(input('Enter an integer: '))\n",
        "    if num.is_integer():\n",
        "      even_odd_vending(int(num))\n",
        "    else:\n",
        "      print('Please enter an integer')\n",
        "  except ValueError:\n",
        "      print('Please enter a number')\n",
        "\n",
        "\n",
        "    \n",
        "\n"
      ],
      "metadata": {
        "colab": {
          "base_uri": "https://localhost:8080/"
        },
        "id": "O6_5NtPdlPXG",
        "outputId": "697d2d8f-470c-43c1-b96f-55fcc81b75fe"
      },
      "execution_count": 79,
      "outputs": [
        {
          "output_type": "stream",
          "name": "stdout",
          "text": [
            "Enter an integer: 62\n",
            "even\n",
            "64\n",
            "66\n",
            "68\n",
            "70\n",
            "72\n",
            "74\n",
            "76\n",
            "78\n",
            "80\n"
          ]
        }
      ]
    },
    {
      "cell_type": "markdown",
      "source": [
        "#CHAPTER 2: Exploring a Quadratic Function Visually\n"
      ],
      "metadata": {
        "id": "y5ANGfHu7LjO"
      }
    },
    {
      "cell_type": "code",
      "source": [
        "# quad_function_plot.py\n",
        "# Plot a quadratic function.\n",
        "\n",
        "import matplotlib.pyplot as plt\n",
        "\n",
        "def quad_func_calc():\n",
        "    x_values = [-1, 1, 2, 3, 4, 5, 6, 7, 8, 9]\n",
        "    y_values = []\n",
        "    for x in x_values:\n",
        "        # Calculate the value of quadratic function\n",
        "        y_values.append(x**2 + x * 2 + 1)\n",
        "    draw_graph(x_values, y_values)\n",
        "\n",
        "def draw_graph(x, y):\n",
        "    plt.plot(x, y, marker='o')\n",
        "    plt.xlabel('x-axis')\n",
        "\n",
        "    plt.ylabel('y-axis')\n",
        "    plt.title('Quadratic Function')\n",
        "  \n",
        "if __name__ == '__main__':\n",
        "    quad_func_calc()"
      ],
      "metadata": {
        "colab": {
          "base_uri": "https://localhost:8080/",
          "height": 295
        },
        "id": "mEMt571MTWQf",
        "outputId": "7f688f78-7dd1-468e-cfb7-d667f2d66892"
      },
      "execution_count": 89,
      "outputs": [
        {
          "output_type": "display_data",
          "data": {
            "text/plain": [
              "<Figure size 432x288 with 1 Axes>"
            ],
            "image/png": "[encoded data removed]"
          },
          "metadata": {
            "needs_background": "light"
          }
        }
      ]
    },
    {
      "cell_type": "markdown",
      "source": [
        "# CHAPTER 3: Statistics Calculator"
      ],
      "metadata": {
        "id": "q4udVRAGdx5y"
      }
    },
    {
      "cell_type": "code",
      "source": [
        "# statistics_calculator.py\n",
        "# Read numbers from a file, calculate and print statistical measures:\n",
        "# mean, median, mode variance, statndard deviation\n",
        "\n",
        "import stats\n",
        "from stats import *\n",
        "\n",
        "def read_data(filename):\n",
        "    numbers = []\n",
        "    with open(filename) as f:\n",
        "      for line in f:\n",
        "        numbers.append(float(line))\n",
        "\n",
        "    return numbers\n",
        "\n",
        "if __name__=='__main__':\n",
        "  data =  read_data('mydata.txt')\n",
        "  m = mean(data)\n",
        "  median = median(data)\n",
        "  mode = mode(data)\n",
        "  variance = variance(data)\n",
        "  sd = stdev(data)\n",
        "\n",
        "  print('Mean: {0:.5f}'.format(m))\n",
        "  print('Median: {0:5f}'.format(median))\n",
        "  print('Mode: {0:.5f}'.format(mode))\n",
        "  print('Variance: {0:.5f}'.format(variance))\n",
        "  print('Standard deviation: {0:.5f}'.format(sd))\n"
      ],
      "metadata": {
        "id": "_u1JfdXv7qSJ",
        "colab": {
          "base_uri": "https://localhost:8080/"
        },
        "outputId": "264c4542-1c4f-4351-e9eb-83c99aab4c57"
      },
      "execution_count": 90,
      "outputs": [
        {
          "output_type": "stream",
          "name": "stdout",
          "text": [
            "Mean: 412.18182\n",
            "Median: 500.000000\n",
            "Mode: 100.00000\n",
            "Variance: 112367.76364\n",
            "Standard deviation: 335.21301\n"
          ]
        }
      ]
    },
    {
      "cell_type": "markdown",
      "source": [
        "# CHAPTER 4: Solving Single-Variable Inequalities\n"
      ],
      "metadata": {
        "id": "U-vkH77ZzYai"
      }
    },
    {
      "cell_type": "code",
      "source": [
        "# isolve.py\n",
        "# Single variable inequality solver\n",
        "\n",
        "from sympy import Symbol, sympify, SympifyError\n",
        "from sympy import solve_poly_inequality, solve_rational_inequalities\n",
        "from sympy import solve_univariate_inequality, Poly\n",
        "from sympy.core.relational import Relational, Equality\n",
        "\n",
        "def isolve(ineq_obj):\n",
        "  x= Symbol('x')\n",
        "\n",
        "  expr = ineq_obj.lhs\n",
        "  rel = ineq_obj.rel_op\n",
        "\n",
        "  if expr.is_polynomial():\n",
        "    p = Poly(expr, x)\n",
        "    return solve_poly_inequality(p, rel)\n",
        "  elif expr.is_rational_function():\n",
        "    p1, p2 = expr.as_numer_denom()\n",
        "    num = Poly(p1)\n",
        "    denom = Poly(p2)\n",
        "    return solve_rational_inequalities([[((num, denum), rel)]])\n",
        "  else:\n",
        "    return solve_univariate_inequality(ineq_obj , x, relational=False)\n",
        "\n",
        "if __name__ == '__main__':\n",
        "  ineq = input('Enter the inequality to solve: ')\n",
        "  try:\n",
        "      ineq_obj = sympify(ineq)\n",
        "  except SympifyError:\n",
        "      print('Invalid inequality')\n",
        "  else:\n",
        "    # We check if the input expression is an inequality here\n",
        "    if isinstance(ineq_obj, Relational) and not isinstance(ineq_obj, Equality):\n",
        "      print(isolve(ineq_obj))\n",
        "    else:\n",
        "      print('Invalid inquality')\n"
      ],
      "metadata": {
        "colab": {
          "base_uri": "https://localhost:8080/"
        },
        "id": "s87kYpfpz62b",
        "outputId": "ef5fd063-605a-4102-aefa-5cc090eb04cf"
      },
      "execution_count": 22,
      "outputs": [
        {
          "output_type": "stream",
          "name": "stdout",
          "text": [
            "Enter the inequality to solve: -x**2 + 4 <0\n",
            "[Interval.open(-oo, -2), Interval.open(2, oo)]\n"
          ]
        }
      ]
    },
    {
      "cell_type": "markdown",
      "source": [
        "# CHAPTER 5: Law of Large Numbers\n",
        "---\n",
        "\n"
      ],
      "metadata": {
        "id": "Gn6-5TKt8Z9F"
      }
    },
    {
      "cell_type": "code",
      "source": [
        "# law_ln.py\n",
        "# Verify the law of large numbers using a six-sided die roll as an example\n",
        "\n",
        "import random\n",
        "\n",
        "def roll(num_trials):\n",
        "    rolls = []\n",
        "    for t in range(num_trials):\n",
        "      rolls.append(random.randint(1, 6))\n",
        "    return sum(rolls)/num_trials\n",
        "\n",
        "if __name__ == '__main__':\n",
        "  expected_value = 3.5\n",
        "  print('Expected value: {0}'.format(expected_value))\n",
        "  for trial in [100, 1000, 10000, 100000, 500000]:\n",
        "    avg = roll(trial)\n",
        "    print('Trials: {0} Trial average {1}'.format(trial, avg))"
      ],
      "metadata": {
        "colab": {
          "base_uri": "https://localhost:8080/"
        },
        "id": "jUGUOzKq88kL",
        "outputId": "b5372ca5-af09-4af9-ba4e-0ece54d48afa"
      },
      "execution_count": 25,
      "outputs": [
        {
          "output_type": "stream",
          "name": "stdout",
          "text": [
            "Expected value: 3.5\n",
            "Trials: 100 Trial average 3.44\n",
            "Trials: 1000 Trial average 3.498\n",
            "Trials: 10000 Trial average 3.5059\n",
            "Trials: 100000 Trial average 3.49756\n",
            "Trials: 500000 Trial average 3.499772\n"
          ]
        }
      ]
    },
    {
      "cell_type": "markdown",
      "source": [
        "# CHAPTER 7: Implement the Gradient Descent"
      ],
      "metadata": {
        "id": "A4dp6SPCCIY5"
      }
    },
    {
      "cell_type": "code",
      "source": [
        "# grad_descent.py\n",
        "# Use gradient descent to find the minimum value of a singel variable function. \n",
        "# This also checks for the existence of a solution for the equation f'(x)=0 and \n",
        "# plots the intermediate points traversed.\n",
        "\n",
        "from sympy import Derivative, Symbol, sympify, solve\n",
        "import matplotlib.pyplot as plt\n",
        "\n",
        "def grad_descent(x0, f1x, x):\n",
        "  # check if fix=0 has a solution\n",
        "  if not solve(f1x):\n",
        "    print('Cannot continue, solution for {0}=0 does not exist'. format(fix))\n",
        "    return None\n",
        "  epsilon = 1e-6\n",
        "  step_size = 1e-4\n",
        "  x_old = x0\n",
        "  x_new = x_old-step_size*f1x.subs({x: x_old}).evalf()\n",
        "\n",
        "  # list to store the X values traversed\n",
        "  X_traversed = []\n",
        "  while abs(x_old - x_new) > epsilon:\n",
        "    X_traversed.append(x_new)\n",
        "    x_old = x_new\n",
        "    x_new = x_old - step_size*f1x.subs({x:x_old}).evalf()\n",
        "\n",
        "  return x_new, X_traversed\n",
        "\n",
        "def frange(start, final, interval):\n",
        "\n",
        "    numbers = []\n",
        "    while start < final:\n",
        "      numbers.append(start)\n",
        "      start = start + interval\n",
        "\n",
        "    return numbers\n",
        "\n",
        "def create_plot(X_traversed, f, var):\n",
        "    # First create the graph of the function itself\n",
        "    x_val = frange(-1, 1, 0.01)\n",
        "    f_val = [f.subs({var:x}) for x in x_val]\n",
        "    plt.plot(x_val, f_val, 'bo')\n",
        "    # calculate the function value at each of the intermediate\n",
        "    # points traversed\n",
        "    f_traversed = [f.subs({var:x}) for x in X_traversed]\n",
        "    plt.plot(X_traversed, f_traversed, 'r.')\n",
        "    plt.legend(['Function', 'Intermediate points'], loc='best')\n",
        "    plt.show()\n",
        "\n",
        "if __name__ == '__main__':\n",
        "\n",
        "      f = input('Enter a function in one variable: ')\n",
        "      var = input('Enter the variable to differentiate with respect to: ')\n",
        "      var0 = float(input('Enter the initial value of the variable: '))\n",
        "      try:\n",
        "        f = sympify(f)\n",
        "      except SympifyError:\n",
        "        print('Invalid function entered')\n",
        "      else:\n",
        "        var = Symbol(var)\n",
        "        d = Derivative(f, var).doit()\n",
        "        var_min, X_traversed = grad_descent(var0, d, var)\n",
        "        if var_min:\n",
        "          print('{0}: {1}'.format(var.name, var_min))\n",
        "          print('Minimum value: {0}'.format(f.subs({var:var_min})))\n",
        "        create_plot(X_traversed, f, var)\n",
        "\n",
        "\n"
      ],
      "metadata": {
        "colab": {
          "base_uri": "https://localhost:8080/",
          "height": 352
        },
        "id": "Qby6v4gBE07C",
        "outputId": "6138e8b3-9790-404e-e339-ebe5269e7b62"
      },
      "execution_count": 40,
      "outputs": [
        {
          "output_type": "stream",
          "name": "stdout",
          "text": [
            "Enter a function in one variable: 3*x**2 + 2*x\n",
            "Enter the variable to differentiate with respect to: x\n",
            "Enter the initial value of the variable: 0.1\n",
            "x: -0.331668643986980\n",
            "Minimum value: -0.333325019761474\n"
          ]
        },
        {
          "output_type": "display_data",
          "data": {
            "text/plain": [
              "<Figure size 432x288 with 1 Axes>"
            ],
            "image/png": "[encoded data removed]"
          },
          "metadata": {
            "needs_background": "light"
          }
        }
      ]
    }
  ]
}