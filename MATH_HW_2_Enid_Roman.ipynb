{
  "nbformat": 4,
  "nbformat_minor": 0,
  "metadata": {
    "colab": {
      "name": "MATH HW 2 - Enid Roman",
      "provenance": [],
      "collapsed_sections": [],
      "authorship_tag": "ABX9TyOPUsamxvkWgIBRZeYQahHm",
      "include_colab_link": true
    },
    "kernelspec": {
      "name": "python3",
      "display_name": "Python 3"
    },
    "language_info": {
      "name": "python"
    }
  },
  "cells": [
    {
      "cell_type": "markdown",
      "metadata": {
        "id": "view-in-github",
        "colab_type": "text"
      },
      "source": [
        "<a href=\"https://colab.research.google.com/github/enidroman/Math-With-Python/blob/main/MATH_HW_2_Enid_Roman.ipynb\" target=\"_parent\"><img src=\"https://colab.research.google.com/assets/colab-badge.svg\" alt=\"Open In Colab\"/></a>"
      ]
    },
    {
      "cell_type": "markdown",
      "source": [
        "# Do not use built in programs to do the following.  Write the programs to demonstrate that you understand the math behind them.  Provide all solutions in an .html file. \n",
        "\n",
        "# 1.  Write a Python program to compute the eigenvalues and right eigenvectors of a given square array."
      ],
      "metadata": {
        "id": "qWRSTzHdynrN"
      }
    },
    {
      "cell_type": "code",
      "execution_count": 6,
      "metadata": {
        "id": "BfPdMg2_jDzo"
      },
      "outputs": [],
      "source": [
        "# importing numpy library\n",
        "import numpy as np"
      ]
    },
    {
      "cell_type": "code",
      "source": [
        "# create numpy 2d-array\n",
        "m = np.mat(\"3 4;4 6\")\n",
        "print(\"Printing the Original square array:\\n\", m)\n",
        "\n",
        "# finding eigenvalues and eigenvectors\n",
        "w, v = np.linalg.eig(m)\n",
        "\n",
        "# printing eigen values\n",
        "print(\"Printing the Eigen values of the given square array:\\n\", w)\n",
        "\n",
        "# printing eigen vectors\n",
        "print(\"Printing Right eigenvectors of the given square array:\\n\", v)"
      ],
      "metadata": {
        "colab": {
          "base_uri": "https://localhost:8080/"
        },
        "id": "E0ionAThJhaA",
        "outputId": "59b1f6e9-955d-44a6-c164-196d992a0f97"
      },
      "execution_count": 7,
      "outputs": [
        {
          "output_type": "stream",
          "name": "stdout",
          "text": [
            "Printing the Original square array:\n",
            " [[3 4]\n",
            " [4 6]]\n",
            "Printing the Eigen values of the given square array:\n",
            " [0.22799813 8.77200187]\n",
            "Printing Right eigenvectors of the given square array:\n",
            " [[-0.82192562 -0.56959484]\n",
            " [ 0.56959484 -0.82192562]]\n"
          ]
        }
      ]
    },
    {
      "cell_type": "markdown",
      "source": [
        "# 2.  Write a Python program to compute the factor of a given array by Singular Value Decomposition.\n",
        "\n",
        "### The SVD can be calculated by calling the svd() function.\n",
        "\n",
        "### The function takes a matrix and returns the U, Sigma and V^T elements. The Sigma diagonal matrix is returned as a vector of singular values. The V matrix is returned in a transposed form, e.g. V.T.\n",
        "\n",
        "### Running the example first prints the defined 2×2 matrix, then the 2×2 U matrix, 1 element Sigma vector, and 2×2 V^T matrix elements calculated from the decomposition.\n",
        "\n"
      ],
      "metadata": {
        "id": "MI7IDTJnRZE_"
      }
    },
    {
      "cell_type": "code",
      "source": [
        "# create a numpy array\n",
        "arr = np.array([[10, 2], [0, 7]], dtype=np.float32)\n",
        "print(\"Original array:\")\n",
        "print(arr)\n",
        "  \n",
        "# compute the factor \n",
        "U, s, V = np.linalg.svd(arr, full_matrices=False)\n",
        "  \n",
        "# print the result\n",
        "print(\"\\nFactor of the given array  by Singular Value Decomposition:\")\n",
        "print(\"\\nU=\", U, \"\\n\\ns=\", s, \"\\n\\nV=\", V)"
      ],
      "metadata": {
        "colab": {
          "base_uri": "https://localhost:8080/"
        },
        "id": "TB5Po5EOS1Y5",
        "outputId": "b714b229-9705-4f17-a713-a82086f1b3d6"
      },
      "execution_count": 8,
      "outputs": [
        {
          "output_type": "stream",
          "name": "stdout",
          "text": [
            "Original array:\n",
            "[[10.  2.]\n",
            " [ 0.  7.]]\n",
            "\n",
            "Factor of the given array  by Singular Value Decomposition:\n",
            "\n",
            "U= [[ 0.9724102 -0.2332776]\n",
            " [ 0.2332776  0.9724102]] \n",
            "\n",
            "s= [10.361397   6.7558455] \n",
            "\n",
            "V= [[ 0.9384933   0.34529743]\n",
            " [-0.34529743  0.9384933 ]]\n"
          ]
        }
      ]
    },
    {
      "cell_type": "markdown",
      "source": [
        "# 3.  Write a Python program to compute the determinant of an array.\n",
        "\n",
        "### Determinant for a matrix [[a,b], [c,d]], the determinant is is calculated as ‘ad-bc’. The larger square matrices are considered to be a combination of 2x2 matrices."
      ],
      "metadata": {
        "id": "_fcJC57RTYjT"
      }
    },
    {
      "cell_type": "code",
      "source": [
        "from numpy import linalg\n",
        "  \n",
        "# creating a 2X2 matrix\n",
        "matrix = np.array([[5, 6], [7, 8]])\n",
        "print(\"Original 2-D matrix\")\n",
        "print(matrix)\n",
        "  \n",
        "# print the result\n",
        "print(\"Determinant of the 2-D matrix:\")\n",
        "print(np.linalg.det(matrix))"
      ],
      "metadata": {
        "colab": {
          "base_uri": "https://localhost:8080/"
        },
        "id": "Zglje13hbktQ",
        "outputId": "199b4881-7d74-41fe-cb22-270edf72f97b"
      },
      "execution_count": 9,
      "outputs": [
        {
          "output_type": "stream",
          "name": "stdout",
          "text": [
            "Original 2-D matrix\n",
            "[[5 6]\n",
            " [7 8]]\n",
            "Determinant of the 2-D matrix:\n",
            "-2.000000000000005\n"
          ]
        }
      ]
    }
  ]
}